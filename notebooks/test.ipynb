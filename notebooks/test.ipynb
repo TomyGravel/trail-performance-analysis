{
 "cells": [
  {
   "cell_type": "markdown",
   "id": "d3ea1a27-4420-4c3c-a49d-23aeaa900f71",
   "metadata": {},
   "source": [
    "Ce notebook explore les données fictives d'entraînement de trail et calcule le Paramètre Global de Forme (PF). Il examine également les corrélations entre les différentes variables et visualise les résultats."
   ]
  },
  {
   "cell_type": "code",
   "execution_count": null,
   "id": "2a178898-4a43-42de-b824-806396815578",
   "metadata": {},
   "outputs": [],
   "source": [
    "# Importation des Bibliothèques\n",
    "import pandas as pd\n",
    "import numpy as np\n",
    "import matplotlib.pyplot as plt\n",
    "import seaborn as sns\n",
    "from sklearn.preprocessing import MinMaxScaler\n",
    "\n",
    "# Configuration des styles de visualisation\n",
    "sns.set(style=\"whitegrid\")"
   ]
  },
  {
   "cell_type": "code",
   "execution_count": null,
   "id": "7bf27483-3a4d-483b-af9f-8f2310d84fb5",
   "metadata": {},
   "outputs": [],
   "source": [
    "# Chargement des Données\n",
    "df = pd.read_csv('../data/processed/data_with_pf.csv')\n",
    "\n",
    "# Afficher les premières lignes pour vérifier\n",
    "df.head()"
   ]
  },
  {
   "cell_type": "code",
   "execution_count": null,
   "id": "c83d5baa-6ddd-4a21-ae23-43f1dd18269d",
   "metadata": {},
   "outputs": [],
   "source": [
    "# Vérifier les valeurs manquantes\n",
    "missing_values = df.isnull().sum()\n",
    "print(\"Valeurs manquantes par colonne :\")\n",
    "print(missing_values)"
   ]
  },
  {
   "cell_type": "code",
   "execution_count": null,
   "id": "b92abd47-1d04-4aee-9543-9bd755d38f00",
   "metadata": {},
   "outputs": [],
   "source": [
    "# Sélectionner les colonnes nécessaires\n",
    "columns = ['Durée (heures)', 'Distance (km)', 'Dénivelé (m)', \n",
    "           'FC Moyenne (bpm)', 'VFC (ms)', 'Sommeil (h)', \n",
    "           'Qualité Sommeil (1-10)', 'Nutrition (1-10)', 'Hydratation (L)']\n",
    "\n",
    "data = df[columns].copy()\n",
    "\n",
    "# Appliquer Min-Max Scaling\n",
    "scaler = MinMaxScaler()\n",
    "data_normalized = pd.DataFrame(scaler.fit_transform(data), columns=columns)\n",
    "\n",
    "# Inverser la normalisation pour FC Moyenne (une FC plus basse est meilleure)\n",
    "data_normalized['FC Moyenne (bpm)'] = 1 - data_normalized['FC Moyenne (bpm)']"
   ]
  },
  {
   "cell_type": "code",
   "execution_count": null,
   "id": "a283a03e-39bf-493d-a7cc-e20de5a8665b",
   "metadata": {},
   "outputs": [],
   "source": [
    "# Définir les poids\n",
    "weights = {\n",
    "    'FC Moyenne (bpm)': 0.20,\n",
    "    'VFC (ms)': 0.20,\n",
    "    'Sommeil (h)': 0.20,\n",
    "    'Qualité Sommeil (1-10)': 0.10,\n",
    "    'Nutrition (1-10)': 0.10,\n",
    "    'Hydratation (L)': 0.05,\n",
    "    'Durée (heures)': 0.05,\n",
    "    'Distance (km)': 0.05,\n",
    "    'Dénivelé (m)': 0.05\n",
    "}\n",
    "\n",
    "# Calculer le PF\n",
    "data_normalized['PF'] = data_normalized.apply(lambda row: sum(row[col] * weight for col, weight in weights.items()), axis=1)\n",
    "\n",
    "# Ajouter le PF au DataFrame original\n",
    "df['PF Calculé'] = data_normalized['PF']\n",
    "\n",
    "# Afficher le DataFrame avec le PF Calculé\n",
    "df.head()"
   ]
  },
  {
   "cell_type": "code",
   "execution_count": null,
   "id": "1f42de48-f4f0-433d-84aa-85d866e21c85",
   "metadata": {},
   "outputs": [],
   "source": [
    "# Calculer la matrice de corrélation de Pearson\n",
    "corr_matrix = df[['Durée (heures)', 'Distance (km)', 'Dénivelé (m)', \n",
    "                 'FC Moyenne (bpm)', 'VFC (ms)', 'Sommeil (h)', \n",
    "                 'Qualité Sommeil (1-10)', 'Nutrition (1-10)', 'Hydratation (L)', 'PF Calculé']].corr(method='pearson')\n",
    "\n",
    "# Afficher la matrice de corrélation\n",
    "corr_matrix"
   ]
  },
  {
   "cell_type": "code",
   "execution_count": null,
   "id": "bd32662b-854d-445a-8402-f5c59b8b7725",
   "metadata": {},
   "outputs": [],
   "source": [
    "# Heatmap des corrélations\n",
    "plt.figure(figsize=(10, 8))\n",
    "sns.heatmap(corr_matrix, annot=True, cmap='coolwarm', vmin=-1, vmax=1)\n",
    "plt.title('Heatmap des Corrélations de Pearson')\n",
    "plt.show()"
   ]
  },
  {
   "cell_type": "code",
   "execution_count": null,
   "id": "1827744e-3829-4f0d-8a12-80b95f318b8f",
   "metadata": {},
   "outputs": [],
   "source": [
    "# Convertir la colonne Date en datetime\n",
    "df['Date'] = pd.to_datetime(df['Date'], format='%d/%m/%Y')\n",
    "\n",
    "# Tracer le PF au fil du temps\n",
    "plt.figure(figsize=(10, 5))\n",
    "plt.plot(df['Date'], df['PF Calculé'], marker='o', linestyle='-', color='b')\n",
    "plt.title('Paramètre Global de Forme (PF) sur 10 Jours')\n",
    "plt.xlabel('Date')\n",
    "plt.ylabel('PF Calculé')\n",
    "plt.ylim(0, 1)\n",
    "plt.grid(True)\n",
    "plt.show()"
   ]
  },
  {
   "cell_type": "code",
   "execution_count": null,
   "id": "fee661e7-19ea-4efb-973a-d2119505a9eb",
   "metadata": {},
   "outputs": [],
   "source": []
  },
  {
   "cell_type": "code",
   "execution_count": null,
   "id": "3aa2026c-5653-4dcc-8eff-6037676f4882",
   "metadata": {},
   "outputs": [],
   "source": []
  }
 ],
 "metadata": {
  "kernelspec": {
   "display_name": "Python 3 (ipykernel)",
   "language": "python",
   "name": "python3"
  },
  "language_info": {
   "codemirror_mode": {
    "name": "ipython",
    "version": 3
   },
   "file_extension": ".py",
   "mimetype": "text/x-python",
   "name": "python",
   "nbconvert_exporter": "python",
   "pygments_lexer": "ipython3",
   "version": "3.10.12"
  }
 },
 "nbformat": 4,
 "nbformat_minor": 5
}
